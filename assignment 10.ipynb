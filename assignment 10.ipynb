{
 "cells": [
  {
   "cell_type": "markdown",
   "id": "139d017d-968b-4cdf-8244-d2c7ac4897ab",
   "metadata": {},
   "source": [
    "1. In Python, what is the difference between a built-in function and a user-defined function? Provide an\n",
    "   example of each.\n",
    "   \n",
    "ANS-  A user-defined function in Python is a code block which is defined by the programmer or by user itself for some specific tasks.\n",
    "Built-in function---A built-in function is provided by the programming language itself. It comes pre-defined and we can use them without customizing.\n",
    "\n",
    "(CUSTOMIZABILITY)-- in user-defined function a user can define their own logic, control flow, and customize the function to suit their specific requirements.\n",
    "\n",
    "but in built-in function a user cannot customize a function because they are pre defined and have fixed functionalities.\n",
    "\n",
    "(AVAILABILITY)--User-defined functions need to be created by the programmer before they can be used in the program.\n",
    "\n",
    "but in Built-in functions are readily available as part of the programming language."
   ]
  },
  {
   "cell_type": "code",
   "execution_count": 11,
   "id": "ed918eea-7b5b-4bd2-8b57-a00590890c52",
   "metadata": {},
   "outputs": [
    {
     "name": "stdout",
     "output_type": "stream",
     "text": [
      "aman gaur is a string\n"
     ]
    }
   ],
   "source": [
    "#example of user-defined function\n",
    "\n",
    "def neuron():\n",
    "    print(\"aman gaur is a string\")\n",
    "    \n",
    "neuron()\n",
    "    \n"
   ]
  },
  {
   "cell_type": "code",
   "execution_count": 19,
   "id": "2c103cb5-da43-4b8f-a3c9-714c7cc2bcf8",
   "metadata": {},
   "outputs": [
    {
     "name": "stdout",
     "output_type": "stream",
     "text": [
      "5\n",
      "range(1, 7)\n",
      "891\n"
     ]
    }
   ],
   "source": [
    "#example of built-in function\n",
    "\n",
    "a= sum([2,3])\n",
    "print(a)\n",
    "\n",
    "b= range(1,7)\n",
    "print(b)\n",
    "\n",
    "c= max(1,2,3,4,67,891,500)\n",
    "print(c)"
   ]
  },
  {
   "cell_type": "markdown",
   "id": "f03d19ef-7653-4ee7-ad05-21db621aba35",
   "metadata": {},
   "source": [
    "2. How can you pass arguments to a function in Python? Explain the difference between positional\n",
    "   arguments and keyword arguments.\n",
    "   \n",
    "ANS- In Python, we can pass arguments to a function based on their position or order, by using their corresponding parameter names. \n",
    "\n",
    "difference between positional and keyword arguments.\n",
    "\n",
    "1-Positional Arguments:\n",
    "\n",
    "<>Positional arguments are passed to a function based on their position or order.\n",
    "<>The order in which you pass the arguments must match the order in which the function expects them.\n",
    "<>If the function definition specifies three positional parameters, you must pass three values in the corresponding order.\n",
    "\n",
    "2-Keyword Arguments:\n",
    "\n",
    "<>Keyword arguments are passed to a function using their corresponding parameter names.\n",
    "<>Instead of relying on the position, you explicitly mention the parameter names and their corresponding values during the function call.\n",
    "<>Keyword arguments are particularly useful when you have a function with default parameter values and want to change only specific values.\n"
   ]
  },
  {
   "cell_type": "code",
   "execution_count": 21,
   "id": "9e81d5fc-caf2-44f8-bc4c-53a645576a19",
   "metadata": {},
   "outputs": [
    {
     "name": "stdout",
     "output_type": "stream",
     "text": [
      "Hello, aman\n",
      "i am 21 years old\n"
     ]
    }
   ],
   "source": [
    "# example of Positional Argument:\n",
    "\n",
    "def criteria(name, age):\n",
    "    print(\"Hello,\", name)\n",
    "    print(\"i am\", age, \"years old\")\n",
    "\n",
    "criteria(\"aman\", 21)\n"
   ]
  },
  {
   "cell_type": "code",
   "execution_count": 22,
   "id": "2b296718-6ba3-4104-a6e1-b9c37288aeca",
   "metadata": {},
   "outputs": [
    {
     "name": "stdout",
     "output_type": "stream",
     "text": [
      "Hello, aman\n",
      "i am 21 years old\n"
     ]
    }
   ],
   "source": [
    "# example of keyword Argument:\n",
    "\n",
    "def criteria(name, age):\n",
    "    print(\"Hello,\", name)\n",
    "    print(\"i am\", age, \"years old\")\n",
    "\n",
    "criteria(name=\"aman\",age =21)"
   ]
  },
  {
   "cell_type": "markdown",
   "id": "fd7ca9ff-1e60-49e6-a53f-1a04c8f60b3d",
   "metadata": {},
   "source": [
    "3. What is the purpose of the return statement in a function? Can a function have multiple return\n",
    "   statements? Explain with an example.\n",
    "   \n",
    "ANS- the purpose of return statement is specifying the value that the function will output or return when it is called. It allows a function to compute a result or perform some operations.\n",
    "it also act as a  termination point for the function because When a return statement is encountered, the function immediately exits, and any code following the return statement within the function is not executed.\n",
    "\n",
    "\n",
    "Yes, a function can have multiple return statements. Each return statement can specify a different value or expression to be returned, depending on the conditions or logic within the function."
   ]
  },
  {
   "cell_type": "code",
   "execution_count": 28,
   "id": "aa62cbe4-2fbc-475d-9fcc-fec02ee793a1",
   "metadata": {},
   "outputs": [
    {
     "name": "stdout",
     "output_type": "stream",
     "text": [
      "positive\n",
      "negative\n",
      "0\n"
     ]
    }
   ],
   "source": [
    "# example of multiple return statement in a function.\n",
    "\n",
    "def my_number(e):\n",
    "    if e == 0:\n",
    "        return 0\n",
    "    elif e > 0:\n",
    "        return \"positive\"\n",
    "    else:\n",
    "        return \"negative\"\n",
    "\n",
    "# Calling the function\n",
    "print(my_number(5))   \n",
    "print(my_number(-3))  \n",
    "print(my_number(0))   \n",
    "\n",
    "\n"
   ]
  },
  {
   "cell_type": "markdown",
   "id": "c962c545-904e-4da8-8c53-895159f41003",
   "metadata": {},
   "source": [
    "4. What are lambda functions in Python? How are they different from regular functions? Provide an\n",
    "   example where a lambda function can be useful.\n",
    "   \n",
    "ANS-Lambda functions are small, anonymous functions defined with the lambda keyword.they can have only one expression but can take many number of arguments.they do not require a return statement as they are implicity returned.\n",
    "Lambda functions are useful for small tasks.\n",
    "\n",
    "--Lambda Function: Lambda functions are anonymous functions because they don't have a specific name associated with them. They are usually used for small, single-use functions.\n",
    "--Regular Function: Regular functions have a specific name assigned to them, allowing you to call them by name whenever needed.\n",
    "\n",
    "--lambda functions are limited to a single expression. They are designed for simple and concise functions without multiple statements.\n",
    "--Regular functions can have multiple statements and complex control flow. They can contain conditionals, loops, multiple expressions.\n",
    "\n"
   ]
  },
  {
   "cell_type": "code",
   "execution_count": 1,
   "id": "05bc54eb-b9eb-4973-bceb-2dcff6842e85",
   "metadata": {},
   "outputs": [
    {
     "name": "stdout",
     "output_type": "stream",
     "text": [
      "['date', 'apple', 'banana', 'cherry']\n"
     ]
    }
   ],
   "source": [
    "# example of lambda function.\n",
    "my_list = ['apple', 'banana', 'cherry', 'date']\n",
    "sorted_list = sorted(my_list, key=lambda x: len(x))\n",
    "print(sorted_list)\n",
    "\n"
   ]
  },
  {
   "cell_type": "markdown",
   "id": "ebc6f0f9-4103-485e-a75c-35729988d000",
   "metadata": {},
   "source": [
    "5. How does the concept of \"scope\" apply to functions in Python? Explain the difference between local\n",
    "   scope and global scope.\n",
    "   \n",
    "ANS- the concept of \"scope\" refers to the visibility and accessibility of variables within different parts of your code. Scope determines where variables and names are defined and where they can be accessed. \n",
    "\n",
    "<>In local scope, Variables defined within a function are considered local variables and are only accessible within that function.\n",
    "<>In global scope,Variables defined outside of any function or at the top-level of a module are considered global variables and can be accessed from any part of the code.\n",
    "\n",
    "<>Local variables are created when the function is called and are destroyed when the function execution completes.\n",
    "<>global variables are created when the code starts and are not destroyed even when the function execution completes.\n",
    "\n",
    "<>Local variables take precedence over variables with the same name in outer scopes.\n",
    "<>Global variables can be accessed and modified by any part of the code unless explicitly shadowed by local variables with the same name."
   ]
  },
  {
   "cell_type": "markdown",
   "id": "20cf1a8b-aea0-4d19-9afa-f88b0ff0e40b",
   "metadata": {},
   "source": [
    "6. How can you use the \"return\" statement in a Python function to return multiple values?\n",
    "ANS-"
   ]
  },
  {
   "cell_type": "code",
   "execution_count": 12,
   "id": "c7f3ce46-f38f-4912-b80a-3e414ad802f7",
   "metadata": {},
   "outputs": [
    {
     "name": "stdout",
     "output_type": "stream",
     "text": [
      "9\n",
      "67\n",
      "34.714285714285715\n"
     ]
    }
   ],
   "source": [
    "def calculate_mani(numbers):\n",
    "    minimum = min(numbers)\n",
    "    maximum = max(numbers)\n",
    "    average = sum(numbers) / len(numbers)\n",
    "    return minimum, maximum, average\n",
    "\n",
    "my_numbers = [12, 45, 67, 23, 9, 56, 31]\n",
    "min_value, max_value, avg_value = calculate_mani(my_numbers)\n",
    "print(min_value)\n",
    "print(max_value)\n",
    "print(avg_value)\n",
    "\n"
   ]
  },
  {
   "cell_type": "markdown",
   "id": "43f4f4e0-b89b-4a2f-a539-5fe8beb6e1d8",
   "metadata": {},
   "source": [
    "7. What is the difference between the \"pass by value\" and \"pass by reference\" concepts when it\n",
    "   comes to function arguments in Python?\n",
    "   \n",
    "   \n",
    "ANS-Pass by value refers to a mechanism of copying the function parameter value to another variable while the pass by reference refers to a mechanism of passing the actual parameters to the function.\n",
    "\n",
    "In pass by value, the changes made inside the function are not reflected in the original value. On the other hand, in pass by reference, the changes made inside the function are reflected in the original value.\n",
    "\n",
    "pass by value makes a copy of the actual parameter. However, in pass by reference, the address of the actual parameter passes to the function.\n",
    "\n",
    "Pass by value requires more time as it involves copying values whereas pass by reference requires a less amount of time as there is no copying.\n",
    "\n"
   ]
  },
  {
   "cell_type": "markdown",
   "id": "2d55230d-91c7-4bb4-a35b-28499305629b",
   "metadata": {},
   "source": [
    "8. Create a function that can intake integer or decimal value and do following operations:\n",
    "a. Logarithmic function (log x)\n",
    "b. Exponential function (exp(x))\n",
    "c. Power function with base 2 (2x)\n",
    "d. Square root"
   ]
  },
  {
   "cell_type": "code",
   "execution_count": 8,
   "id": "0b89ceb5-3003-4182-931d-9dd0be383d2e",
   "metadata": {},
   "outputs": [
    {
     "name": "stdout",
     "output_type": "stream",
     "text": [
      "Logarithm: 1.791759469228055\n",
      "Exponential: 403.4287934927351\n",
      "Power: 64.0\n",
      "Square Root: 2.449489742783178\n",
      "------------------------\n",
      "Logarithm: 1.7047480922384253\n",
      "Exponential: 244.69193226422038\n",
      "Power: 45.254833995939045\n",
      "Square Root: 2.345207879911715\n"
     ]
    }
   ],
   "source": [
    "import math\n",
    "\n",
    "def my_question(value):\n",
    "   \n",
    "    logarithm = math.log(value)\n",
    "    print(\"Logarithm:\", logarithm)\n",
    "\n",
    "    \n",
    "    exponential = math.exp(value)\n",
    "    print(\"Exponential:\", exponential)\n",
    "\n",
    "\n",
    "    power = math.pow(2, value)\n",
    "    print(\"Power:\", power)\n",
    "\n",
    "    \n",
    "    square_root = math.sqrt(value)\n",
    "    print(\"Square Root:\", square_root)\n",
    "    \n",
    "my_question(6) # without decimal\n",
    "\n",
    "print(\"------------------------\")\n",
    "my_question(5.5) #with decimal\n"
   ]
  },
  {
   "cell_type": "markdown",
   "id": "57db32c0-03d0-4375-a6f3-695b422fd621",
   "metadata": {},
   "source": [
    "9. Create a function that takes a full name as an argument and returns first name and last name."
   ]
  },
  {
   "cell_type": "code",
   "execution_count": 10,
   "id": "a8f56444-edd0-48dc-a15b-27e851b04af7",
   "metadata": {},
   "outputs": [
    {
     "name": "stdin",
     "output_type": "stream",
     "text": [
      "Enter a full name:  aman gaur\n"
     ]
    },
    {
     "name": "stdout",
     "output_type": "stream",
     "text": [
      "First Name: aman\n",
      "Last Name: gaur\n"
     ]
    }
   ],
   "source": [
    "def extract_f_l(full_name):\n",
    "    first_name, last_name = full_name.split()\n",
    "    return first_name, last_name\n",
    "\n",
    "# Example usage:\n",
    "name = input(\"Enter a full name: \")\n",
    "first_name, last_name =extract_f_l(name)\n",
    "print(\"First Name:\", first_name)\n",
    "print(\"Last Name:\", last_name)\n"
   ]
  },
  {
   "cell_type": "code",
   "execution_count": null,
   "id": "272a2f39-e481-4cac-b699-461c5fa5caf3",
   "metadata": {},
   "outputs": [],
   "source": []
  }
 ],
 "metadata": {
  "kernelspec": {
   "display_name": "Python 3 (ipykernel)",
   "language": "python",
   "name": "python3"
  },
  "language_info": {
   "codemirror_mode": {
    "name": "ipython",
    "version": 3
   },
   "file_extension": ".py",
   "mimetype": "text/x-python",
   "name": "python",
   "nbconvert_exporter": "python",
   "pygments_lexer": "ipython3",
   "version": "3.10.6"
  }
 },
 "nbformat": 4,
 "nbformat_minor": 5
}
