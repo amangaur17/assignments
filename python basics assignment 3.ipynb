{
 "cells": [
  {
   "cell_type": "markdown",
   "id": "ab4e5f44",
   "metadata": {},
   "source": [
    "1. Why are functions advantageous to have in your programs?\n",
    "\n",
    "ANS--\n",
    "\n",
    "\n",
    "1-reusability:\n",
    "\n",
    "Functions allow code to be written once and reused multiple times.\n",
    "\n",
    "2-Modularity:\n",
    "\n",
    "Breaking code into smaller functions focuses on solving specific tasks independently.\n",
    "\n",
    "3-Abstraction:\n",
    "\n",
    "Simplifies the overall program structure and reduces complexity.\n",
    "\n",
    "4-Readability:\n",
    "\n",
    "Descriptive function names enhance code readability and understanding.\n",
    "\n",
    "5-Testing and Debugging:\n",
    "\n",
    "Isolated functions allow individual testing, ensuring they work correctly.\n",
    "Bugs can be localized to specific functions, streamlining the debugging process.\n",
    "\n",
    "6-Code Organization:\n",
    "\n",
    "Grouping related operations within functions logically organizes the code.\n",
    "Enhances code maintenance and collaboration, especially in larger projects."
   ]
  },
  {
   "cell_type": "markdown",
   "id": "66d91685",
   "metadata": {},
   "source": [
    "2. When does the code in a function run: when it is specified or when it is called?\n",
    "\n",
    "ANS--The code in a function runs when it is (called), not when it is specified.\n",
    "\n",
    "When you define a function in your code, you are essentially telling the program how the function should behave and what operations it should perform when called."
   ]
  },
  {
   "cell_type": "markdown",
   "id": "6cbe453a",
   "metadata": {},
   "source": [
    "3. What statement creates a function?\n",
    "\n",
    "ANS--In Python, the 'def' statement is used to create a function.\n",
    "\n",
    "The 'def' statement is followed by the function name, a pair of parentheses (), and a colon ':'.\n",
    "\n",
    " def function_name(parameters):"
   ]
  },
  {
   "cell_type": "markdown",
   "id": "4f1c7b7b",
   "metadata": {},
   "source": [
    "4. What is the difference between a function and a function call?\n",
    "\n",
    "ANS--\n",
    "\n",
    "A function is a block of code that performs a specific task or set of tasks.\n",
    "It is defined using the 'def' statement in Python.\n",
    "                while\n",
    "                \n",
    "A function call is the act of invoking or executing a function to perform its defined tasks.\n",
    "It is done by using the function's name followed by parentheses containing any required input values. "
   ]
  },
  {
   "cell_type": "markdown",
   "id": "06f13383",
   "metadata": {},
   "source": [
    "5. How many global scopes are there in a Python program? How many local scopes?\n",
    "\n",
    "ANS--a Python program has one global scope, which is accessible throughout the entire program, and each function call creates its own local scope, limited to that specific function's execution.\n",
    "\n",
    "Global Scope:\n",
    "The global scope refers to the outermost level of the program, where variables and functions defined outside any functions or classes reside.\n",
    "Variables defined in the global scope are accessible throughout the entire program, including inside functions and classes.\n",
    "\n",
    "Local Scopes:\n",
    "Local scopes are created whenever a function is called. Each function call has its own local scope.\n",
    "Variables defined within a function are limited to that specific function's scope and cannot be directly accessed outside of it."
   ]
  },
  {
   "cell_type": "markdown",
   "id": "b3434da4",
   "metadata": {},
   "source": [
    "6. What happens to variables in a local scope when the function call returns?\n",
    "\n",
    "ans--In Python, each function call creates its own local scope, which exists only during the duration of the function's execution. Any variables defined inside the function are limited to that local scope and cannot be directly accessed outside the function. Once the function call completes and the function returns its result (if any), the local scope is destroyed, and all the variables within it are deallocated."
   ]
  },
  {
   "cell_type": "markdown",
   "id": "1de483c3",
   "metadata": {},
   "source": [
    "7. What is the concept of a return value? Is it possible to have a return value in an expression?\n",
    "\n",
    "ANS--The concept of a return value in programming refers to the value that a function sends back to the caller after it completes its execution. When a function is called, it may perform a series of operations and calculations, and the result of these computations can be returned to the calling code as the function's output.\n",
    "\n",
    "yes, it is possible to have a return value in an expression. You can use a function call with a return value as part of an expression in Python. "
   ]
  },
  {
   "cell_type": "code",
   "execution_count": 2,
   "id": "e889f876",
   "metadata": {},
   "outputs": [
    {
     "name": "stdout",
     "output_type": "stream",
     "text": [
      "11\n"
     ]
    }
   ],
   "source": [
    "#example\n",
    "def multiply_numbers(a, b):\n",
    "    return a * b\n",
    "\n",
    "def add_numbers(a, b):\n",
    "    return a + b\n",
    "\n",
    "result = add_numbers(3, multiply_numbers(2, 4))\n",
    "print(result)\n"
   ]
  },
  {
   "cell_type": "markdown",
   "id": "edb4f4b7",
   "metadata": {},
   "source": [
    "8. If a function does not have a return statement, what is the return value of a call to that function?\n",
    "\n",
    "ANS--When a function does not explicitly return any value using the return statement, Python automatically returns 'None' as the default return value. This means that even though the function might perform some operations or computations, if it does not explicitly specify what value to return, it implicitly returns 'None'."
   ]
  },
  {
   "cell_type": "markdown",
   "id": "e80f7200",
   "metadata": {},
   "source": [
    "9. How do you make a function variable refer to the global variable?\n",
    "\n",
    "ANS--In Python, if you want to make a function variable refer to the global variable of the same name, you need to use the global keyword inside the function. This tells Python that the variable should be treated as a global variable rather than a local variable."
   ]
  },
  {
   "cell_type": "markdown",
   "id": "09b85ac1",
   "metadata": {},
   "source": [
    "10. What is the data type of None?\n",
    "\n",
    "ANS--The data type of 'None' in Python is called \"NoneType\"."
   ]
  },
  {
   "cell_type": "code",
   "execution_count": 3,
   "id": "af38bbf0",
   "metadata": {},
   "outputs": [
    {
     "name": "stdout",
     "output_type": "stream",
     "text": [
      "<class 'NoneType'>\n"
     ]
    }
   ],
   "source": [
    "#exxample\n",
    "x = None\n",
    "\n",
    "print(type(x))\n"
   ]
  },
  {
   "cell_type": "markdown",
   "id": "8582e749",
   "metadata": {},
   "source": [
    "11. What does the sentence import areallyourpetsnamederic do?\n",
    "\n",
    "ANS--The sentence \"import areallyourpetsnamederic\" doesn't have any meaning in natural language. However, in the context of Python programming, this sentence is a valid import statement, assuming there is a module or package named \"areallyourpetsnamederic\" accessible in the Python environment.\n",
    "\n",
    "If the \"areallyourpetsnamederic\" module exists, this import statement would allow you to access its classes, functions, or variables in your Python program."
   ]
  },
  {
   "cell_type": "markdown",
   "id": "d2cf967d",
   "metadata": {},
   "source": [
    "12. If you had a bacon() feature in a spam module, what would you call it after importing spam?\n",
    "\n",
    "ANS--"
   ]
  },
  {
   "cell_type": "code",
   "execution_count": null,
   "id": "da6ed4d4",
   "metadata": {},
   "outputs": [],
   "source": [
    "import spam\n",
    "\n",
    "spam.bacon()\n",
    "\n",
    "\n",
    "#In this example, we assume that the \"spam\" module contains a function named \"bacon()\". \n",
    "#By using the dot notation (spam.bacon()), we access the \"bacon()\" function from the \"spam\" module and execute it in our Python code. \n",
    "#This allows you to use the functionality provided by the \"bacon()\" function in your program after importing the \"spam\" module."
   ]
  },
  {
   "cell_type": "markdown",
   "id": "d3985b00",
   "metadata": {},
   "source": [
    "13. What can you do to save a programme from crashing if it encounters an error?\n",
    "\n",
    "ANS--To save a program from crashing when it encounters an error, you can implement proper error handling techniques. In Python, you can use try-except blocks to catch and handle exceptions, preventing the program from abruptly terminating."
   ]
  },
  {
   "cell_type": "markdown",
   "id": "3629242e",
   "metadata": {},
   "source": [
    "14. What is the purpose of the try clause? What is the purpose of the except clause?\n",
    "\n",
    "ANS--Purpose of the try clause:\n",
    "1-The try clause is used to enclose a block of code that might raise an exception.\n",
    "2-When Python encounters a try block, it attempts to execute the code inside it.\n",
    "3-If no exception occurs, the code inside the try block is executed as usual.\n",
    "\n",
    "Purpose of the except clause:\n",
    "1-The except clause is used to define a block of code that should be executed when an exception occurs inside the corresponding try block.\n",
    "2-If an exception occurs within the try block, Python jumps to the corresponding except block and executes the code inside it.\n",
    "3-The except block allows you to handle the exception gracefully, perform error-specific actions, and prevent the program from crashing."
   ]
  }
 ],
 "metadata": {
  "kernelspec": {
   "display_name": "Python 3 (ipykernel)",
   "language": "python",
   "name": "python3"
  },
  "language_info": {
   "codemirror_mode": {
    "name": "ipython",
    "version": 3
   },
   "file_extension": ".py",
   "mimetype": "text/x-python",
   "name": "python",
   "nbconvert_exporter": "python",
   "pygments_lexer": "ipython3",
   "version": "3.9.13"
  }
 },
 "nbformat": 4,
 "nbformat_minor": 5
}
