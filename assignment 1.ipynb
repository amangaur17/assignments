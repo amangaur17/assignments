{
 "cells": [
  {
   "cell_type": "markdown",
   "id": "a8971d38-3719-44c6-8d46-8407cd7c5aa6",
   "metadata": {},
   "source": [
    "1. In the below elements which of them are values or an expression? eg:- values can be\n",
    "   integer or string and expressions will be mathematical operators.\n",
    "*= (expression)\n",
    "\n",
    "hello---- (value)\n",
    "\n",
    "-87.8--- (value)\n",
    "\n",
    "-(expression)\n",
    "\n",
    "/ -------(expression)\n",
    "\n",
    "+- (expression)\n",
    "\n",
    "6--------- (value)\n",
    "\n",
    "\n",
    "2. What is the difference between string and variable?\n",
    "\n",
    "ANS- string(str)-- it is a datatype which contain a text or alphanumeric value to represent the set of characters.in programming languages it is enclosed in qutation(\" \",' ').\n",
    "ex-name = EX--name = (\"aman\")<--- here aman is a string.\n",
    "\n",
    "variable--it is basically a stored location which holds datatypes or some values.it acts like a container.\n",
    "EX--name = (\"aman\")<--- here name is a variable.\n",
    "\n",
    "3. Describe three different data types.\n",
    "\n",
    "ANS-- 1-string(str)--it is a datatype which contain a text or alphanumeric value to represent the set of characters.in programming languages it is enclosed in qutation(\" \",' '). strings are immutable.\n",
    "\n",
    "EX--class = (\"science\")<----- science is a string.\n",
    "\n",
    "2-integer(int)--The integer data type represents whole numbers without decimal points. Integers can be positive, negative, or zero. They are used to perform mathematical operations that involve counting or indexing.\n",
    "EX--age =(25)<---- here 25 is ineger.\n",
    "\n",
    "3-float point number(float)--: The floating-point data type represents real numbers, which can include decimal points.\n",
    "EX--temp =(98.8)<------here 98.8 is float.\n",
    "\n",
    "4. What is an expression made up of? What do all expressions do?\n",
    "\n",
    "ANS-An expression is made up of one or more operands and operators. It can also include function calls, constants, and variables.\n",
    " EX--(3+4+7+&)<------- here 3,4,7,& are operands and + is operator.\n",
    " \n",
    "-- expressions play a crucial role in performing computations, evaluating conditions, and producing values within a program. They are fundamental components for manipulating data, making decisions, and controlling program behavior.\n",
    "\n",
    "5. This assignment statements, like spam = 10. What is the difference between an expression and a statement?\n",
    "\n",
    "ANS-an expression always returns a value but in (spam = 10) its just store the value 10 and does n0t return any result.\n",
    "basically an expression always returns a value but a statement does not.\n",
    "\n",
    "6. After running the following code, what does the variable bacon contain?\n",
    "bacon = 22\n",
    "bacon + 1\n",
    "\n",
    "ANS- when we run this code at the end the bacon variable always contain 22 and bacon +1 does not affect variable bacon because bacon +1 is not assigned to it."
   ]
  },
  {
   "cell_type": "code",
   "execution_count": 2,
   "id": "a82c1fad-ff33-4e4d-91ed-b64a7cb2b782",
   "metadata": {},
   "outputs": [
    {
     "name": "stdout",
     "output_type": "stream",
     "text": [
      "22\n"
     ]
    }
   ],
   "source": [
    "bacon = 22\n",
    "bacon + 1\n",
    "print(bacon)"
   ]
  },
  {
   "cell_type": "markdown",
   "id": "4c11e85c-f534-407f-857f-953094478e97",
   "metadata": {},
   "source": [
    "7. What should the values of the following two terms be?\n",
    "'spam' + 'spamspam'\n",
    "'spam' * 3\n",
    "\n",
    "ANS-spamspamspam,spamspamspam"
   ]
  },
  {
   "cell_type": "code",
   "execution_count": 3,
   "id": "0d12c5bb-0ad5-41fe-8581-dda72b3e6370",
   "metadata": {},
   "outputs": [
    {
     "name": "stdout",
     "output_type": "stream",
     "text": [
      "spamspamspam spamspamspam\n"
     ]
    }
   ],
   "source": [
    "a='spam' + 'spamspam'\n",
    "b='spam' * 3\n",
    "print(a,b)"
   ]
  },
  {
   "cell_type": "markdown",
   "id": "0f0723d0-b87e-4b00-9397-f9f686b539f9",
   "metadata": {},
   "source": [
    "8. Why is eggs a valid variable name while 100 is invalid?\n",
    "\n",
    "ANS-eggs is a valid variable because a variable always starts from a letter and with underscore.\n",
    "--100 is invalid because variable cannot starts from a digit or an special chracter except underscore."
   ]
  },
  {
   "cell_type": "code",
   "execution_count": 6,
   "id": "542292ec-8027-4625-90c1-2f76252568d4",
   "metadata": {},
   "outputs": [
    {
     "name": "stdout",
     "output_type": "stream",
     "text": [
      "44\n"
     ]
    }
   ],
   "source": [
    "eggs = 44\n",
    "print(eggs)\n",
    "\n"
   ]
  },
  {
   "cell_type": "code",
   "execution_count": 7,
   "id": "e145374d-68a2-486b-9bbf-899e4edebdaa",
   "metadata": {},
   "outputs": [
    {
     "ename": "SyntaxError",
     "evalue": "cannot assign to literal here. Maybe you meant '==' instead of '='? (75641761.py, line 1)",
     "output_type": "error",
     "traceback": [
      "\u001b[0;36m  Cell \u001b[0;32mIn [7], line 1\u001b[0;36m\u001b[0m\n\u001b[0;31m    100 = (\"name\")\u001b[0m\n\u001b[0m    ^\u001b[0m\n\u001b[0;31mSyntaxError\u001b[0m\u001b[0;31m:\u001b[0m cannot assign to literal here. Maybe you meant '==' instead of '='?\n"
     ]
    }
   ],
   "source": [
    "100 = (\"name\")\n",
    "print(100)"
   ]
  },
  {
   "cell_type": "markdown",
   "id": "ec3a4d3b-4287-4e92-a75e-5c25c37c56d1",
   "metadata": {},
   "source": [
    "9. What three functions can be used to get the integer, floating-point number, or string version of a value?\n",
    "ANS-we have to use (int) function for integer.\n",
    "    (float) function for floating point number.\n",
    "    (str) function for string verison of a value.\n",
    "10. Why does this expression cause an error? How can you fix it?\n",
    "'I have eaten ' + 99 + ' burritos.'\n",
    "\n",
    "ANS-The expression 'I have eaten' + 99 + 'burritos' causes an error because it involves concatenating a string ('I have eaten') with an integer (99).\n",
    "to fix the above expression we have to convert 99 which is integer to string (str)99.\n"
   ]
  },
  {
   "cell_type": "code",
   "execution_count": 8,
   "id": "cfc80ce1-4cf1-4189-b9be-40fd2f20252c",
   "metadata": {},
   "outputs": [
    {
     "name": "stdout",
     "output_type": "stream",
     "text": [
      "I have eaten 99 burritos.\n"
     ]
    }
   ],
   "source": [
    "a='I have eaten ' + str(99) + ' burritos.'\n",
    "print(a)"
   ]
  },
  {
   "cell_type": "code",
   "execution_count": null,
   "id": "88c6f2b1-0041-4136-b5f2-67f258ab2d66",
   "metadata": {},
   "outputs": [],
   "source": []
  }
 ],
 "metadata": {
  "kernelspec": {
   "display_name": "Python 3 (ipykernel)",
   "language": "python",
   "name": "python3"
  },
  "language_info": {
   "codemirror_mode": {
    "name": "ipython",
    "version": 3
   },
   "file_extension": ".py",
   "mimetype": "text/x-python",
   "name": "python",
   "nbconvert_exporter": "python",
   "pygments_lexer": "ipython3",
   "version": "3.10.6"
  }
 },
 "nbformat": 4,
 "nbformat_minor": 5
}
