{
 "cells": [
  {
   "cell_type": "markdown",
   "id": "c9536b44",
   "metadata": {},
   "source": [
    "1. What is a lambda function in Python, and how does it differ from a regular function?\n",
    "\n",
    "\n",
    "ANS-a lambda function is a small, anonymous function that can be defined without a name. It is created using the lambda keyword.\n",
    "<>Lambda functions are often used when we need a simple, one-line function without defining a separate named function. They are commonly used in conjunction with higher-order functions like map(), filter(), and reduce().\n",
    "\n",
    "\n",
    "IT IS DIFFERENT FROM REGULAR FUNCTION AS:\n",
    "\n",
    "1-The syntax for defining a regular function involves using the 'def' keyword.\n",
    "Lambda functions, on the other hand, are defined using the 'lambda' keyword.\n",
    "\n",
    "2-Regular functions have a name assigned to them, allowing them to be called by their name whenever needed.\n",
    "Lambda functions, however, are anonymous functions that do not have a name associated with them. They are typically used when you need a simple function.\n",
    "\n",
    "3-Regular functions can have multiple lines of code, statements, and even complex logic within their body.\n",
    " Lambda functions, on the other hand, are limited to a single expression. They are meant to be concise and focused on a single task."
   ]
  },
  {
   "cell_type": "markdown",
   "id": "9e085c03",
   "metadata": {},
   "source": [
    "2. Can a lambda function in Python have multiple arguments? If yes, how can you define and use\n",
    "   them?\n",
    "   \n",
    "   \n",
    "ANS- Yes, a lambda function in Python can have multiple arguments. \n",
    "\n",
    "we can define the lambda function with a comma-separated list of arguments inside the parentheses, followed by a colon and the expression that represents the function's logic."
   ]
  },
  {
   "cell_type": "code",
   "execution_count": 1,
   "id": "8724a335",
   "metadata": {},
   "outputs": [
    {
     "name": "stdout",
     "output_type": "stream",
     "text": [
      "9\n",
      "8\n"
     ]
    }
   ],
   "source": [
    "# use of lambda function with multiple arguments.\n",
    "\n",
    "max_three = lambda a, b, c: max(a, b, c)\n",
    "\n",
    "result = max_three(5, 9, 3)\n",
    "print(result)\n",
    "#the lambda function 'max_three' takes three arguments 'a', 'b', and 'c'. It uses the 'max()'function to find the maximum value among the three numbers.\n",
    " \n",
    "    \n",
    "# another example.\n",
    "\n",
    "add = lambda x, y: x + y\n",
    "\n",
    "result = add(3, 5)\n",
    "print(result)\n"
   ]
  },
  {
   "cell_type": "markdown",
   "id": "41938cc7",
   "metadata": {},
   "source": [
    "3. How are lambda functions typically used in Python? Provide an example use case.\n",
    "\n",
    "ANS-Lambda functions are often used when we need a simple, one-line function without defining a separate named function. They are commonly used in conjunction with higher-order functions."
   ]
  },
  {
   "cell_type": "code",
   "execution_count": 2,
   "id": "4fe38e72",
   "metadata": {},
   "outputs": [
    {
     "name": "stdout",
     "output_type": "stream",
     "text": [
      "[('love and other words', 588), ('it start with us', 300), ('verity', 278), ('atomic habits', 192)]\n"
     ]
    }
   ],
   "source": [
    "# example of lambda function use case.\n",
    "books = [(\"it start with us\", 300), (\"atomic habits\", 192), (\"verity\", 278), (\"love and other words\", 588)]\n",
    "\n",
    "# Sort on the basis of (price)\n",
    "sorted_books = sorted(books, key=lambda x: x[1], reverse=True)\n",
    "\n",
    "print(sorted_books)\n"
   ]
  },
  {
   "cell_type": "markdown",
   "id": "a010139c",
   "metadata": {},
   "source": [
    "4. What are the advantages and limitations of lambda functions compared to regular functions in\n",
    "   Python?  \n",
    "   \n",
    "   \n",
    "ANS--->  the advantages of lambda functions compared to regular functions are as follows:-\n",
    "\n",
    "1-syntax: Lambda functions provide a compact syntax for defining anonymous functions without the need to explicitly write a function definition. it provides cleaner and more readable code, especially when dealing with simple operations or short-lived functions.\n",
    "\n",
    "2-Inline usage: Lambda functions can be defined and used directly at the point of invocation. This eliminates the need for creating a named function separately.\n",
    "\n",
    "3-Iterative operations: Lambda functions are commonly used with higher-order functions like map, filter, and reduce. These functions often take lambda functions as arguments, enabling concise and elegant processing of collections or iterables.\n",
    "\n",
    "4-Closures: Lambda functions in many programming languages, including Python, capture variables from their enclosing scope, creating closures. This feature allows lambda functions to remember and access variables even after they have gone out of scope.\n",
    "\n",
    "5-Reduced code complexity: By using lambda functions, you can reduce the overall complexity of your codebase. They allow you to express simple logic and transformations in a more direct and streamlined manner.\n",
    "\n",
    "\n",
    "---->    the limitations of lambda functions compared to regular functions are as follows:-\n",
    "\n",
    "1- Lambda functions are anonymous functions, meaning they don't have a specific name. This can make code harder to read and debug. Regular functions, on the other hand, have named references that provide clear identification and aid in code comprehension.\n",
    "\n",
    "2-Lambda functions are typically designed for simple, one-line expressions or short code snippets. They are not well-suited for complex or lengthy operations.Regular functions provide a more comprehensive framework for such scenarios.\n",
    "\n",
    "3- Lambda functions are primarily intended for immediate use within a specific context or as arguments to higher-order functions,they cannot be reused easily across different parts of your codebase. Regular functions, on the other hand, can be defined once and called from multiple locations, promoting code reuse.\n",
    "\n",
    "4-When an error occurs within a lambda function, it can be more difficult to identify and troubleshoot the issue compared to regular functions. \n",
    "\n",
    "5- Lambda functions can pose challenges when it comes to unit testing. As they are often defined and used inline, isolating and testing them independently can be more complicated compared to regular functions."
   ]
  },
  {
   "cell_type": "markdown",
   "id": "6751923f",
   "metadata": {},
   "source": [
    "5.  Are lambda functions in Python able to access variables defined outside of their own scope?\n",
    "    Explain with an example.\n",
    "    \n",
    "ANs- Yes, lambda functions in Python are able to access variables defined outside of their own scope. This behavior is known as closure."
   ]
  },
  {
   "cell_type": "code",
   "execution_count": 3,
   "id": "59a557ba",
   "metadata": {},
   "outputs": [
    {
     "name": "stdout",
     "output_type": "stream",
     "text": [
      "20\n"
     ]
    }
   ],
   "source": [
    "#example of above question\n",
    "\n",
    "def outside():      #defining an outer function\n",
    "    a= 15\n",
    "    \n",
    "    \n",
    "    aman_lambda=lambda y: a+y    #defining lambda function\n",
    "    \n",
    "    return aman_lambda\n",
    "    \n",
    "amet = outside()\n",
    "    \n",
    "    \n",
    "result = amet(5)  #calling lambda function\n",
    "print(result)\n"
   ]
  },
  {
   "cell_type": "markdown",
   "id": "5c23fa38",
   "metadata": {},
   "source": [
    "6. Write a lambda function to calculate the square of a given number."
   ]
  },
  {
   "cell_type": "code",
   "execution_count": 4,
   "id": "970388ad",
   "metadata": {},
   "outputs": [
    {
     "name": "stdout",
     "output_type": "stream",
     "text": [
      "enter the number5\n",
      "25\n"
     ]
    }
   ],
   "source": [
    "\n",
    "gt650 = lambda a: a*a\n",
    "\n",
    "num = int(input(\"enter the number\"))\n",
    "print(gt650(num))\n"
   ]
  },
  {
   "cell_type": "markdown",
   "id": "e84d6afe",
   "metadata": {},
   "source": [
    "7. Create a lambda function to find the maximum value in a list of integers."
   ]
  },
  {
   "cell_type": "code",
   "execution_count": 5,
   "id": "db960fe9",
   "metadata": {},
   "outputs": [
    {
     "name": "stdout",
     "output_type": "stream",
     "text": [
      "650\n"
     ]
    }
   ],
   "source": [
    "# example of a  a lambda function to find the maximum value in a list of integers.\n",
    "\n",
    "re =[650,400,350,150,450]\n",
    "\n",
    "royal = max(re, key = lambda x:x)\n",
    "print(royal)"
   ]
  },
  {
   "cell_type": "markdown",
   "id": "acc83b21",
   "metadata": {},
   "source": [
    "8. Implement a lambda function to filter out all the even numbers from a list of integers."
   ]
  },
  {
   "cell_type": "code",
   "execution_count": 6,
   "id": "acc47ebe",
   "metadata": {},
   "outputs": [
    {
     "name": "stdout",
     "output_type": "stream",
     "text": [
      "[600, 50, 726, 36]\n"
     ]
    }
   ],
   "source": [
    "# example of a lambda function to filter out all the even numbers from a list of integers.\n",
    "\n",
    "continental =[600,50,355,726,555,903,36,73]\n",
    "\n",
    "hunter = list(filter(lambda x: x % 2 == 0,continental))\n",
    "\n",
    "print(hunter)\n"
   ]
  },
  {
   "cell_type": "markdown",
   "id": "dd11ca3e",
   "metadata": {},
   "source": [
    "9. Write a lambda function to sort a list of strings in ascending order based on the length of each\n",
    "   string."
   ]
  },
  {
   "cell_type": "code",
   "execution_count": 7,
   "id": "864ed83b",
   "metadata": {},
   "outputs": [
    {
     "name": "stdout",
     "output_type": "stream",
     "text": [
      "['java', 'yezdi', 'ducati', 'hunter', 'continental gt']\n"
     ]
    }
   ],
   "source": [
    "bikes =[\"continental gt\",\"ducati\",\"hunter\",\"yezdi\",\"java\"]\n",
    "sorted_bikes = sorted( bikes, key = lambda x:len(x))\n",
    "print(sorted_bikes)"
   ]
  },
  {
   "cell_type": "markdown",
   "id": "3d9a74f9",
   "metadata": {},
   "source": [
    "10. Create a lambda function that takes two lists as input and returns a new list containing the\n",
    "    common elements between the two lists."
   ]
  },
  {
   "cell_type": "code",
   "execution_count": 8,
   "id": "83aacfaa",
   "metadata": {},
   "outputs": [
    {
     "name": "stdout",
     "output_type": "stream",
     "text": [
      "['verna', 'mg', 'honda city']\n"
     ]
    }
   ],
   "source": [
    "cars1 =[\"verna\",\"creata\",\"altroz\",\"mg\",\"honda city\",\"eco sport\"]\n",
    "cars2 =[\"duster\",'honda city',\"mg\",\"wagnor\",\"verna\",\"nano\"]\n",
    "\n",
    "commom_strings = list(filter(lambda x:x in cars2,cars1))\n",
    "print(commom_strings)"
   ]
  },
  {
   "cell_type": "markdown",
   "id": "735e237c",
   "metadata": {},
   "source": [
    "11. Write a recursive function to calculate the factorial of a given positive integer."
   ]
  },
  {
   "cell_type": "code",
   "execution_count": 12,
   "id": "cc4be311",
   "metadata": {},
   "outputs": [
    {
     "name": "stdout",
     "output_type": "stream",
     "text": [
      "Enter the number: 4\n",
      "24\n"
     ]
    }
   ],
   "source": [
    "def factorial(a):\n",
    "    if a == 1:\n",
    "        return 1\n",
    "    else:\n",
    "        return a * factorial(a - 1)\n",
    "\n",
    "e = int(input(\"Enter the number: \"))\n",
    "result = factorial(e)\n",
    "print(result)\n"
   ]
  },
  {
   "cell_type": "markdown",
   "id": "fa48b653",
   "metadata": {},
   "source": [
    "12. Implement a recursive function to compute the nth Fibonacci number."
   ]
  },
  {
   "cell_type": "code",
   "execution_count": 14,
   "id": "2213dd3d",
   "metadata": {},
   "outputs": [
    {
     "name": "stdout",
     "output_type": "stream",
     "text": [
      "Enter the number: 8\n",
      "The 8th Fibonacci number is: 21\n"
     ]
    }
   ],
   "source": [
    "def fibo(n):\n",
    "    if n == 0:\n",
    "        return 0\n",
    "    elif n == 1:\n",
    "        return 1\n",
    "    else:\n",
    "        return fibo(n - 1) + fibo(n - 2)\n",
    "\n",
    "a = int(input(\"Enter the number: \"))\n",
    "result = fibo(a)\n",
    "\n",
    "print(f\"The {a}th Fibonacci number is: {result}\")"
   ]
  },
  {
   "cell_type": "markdown",
   "id": "79c63b73",
   "metadata": {},
   "source": [
    "13. Create a recursive function to find the sum of all the elements in a given list."
   ]
  },
  {
   "cell_type": "code",
   "execution_count": 7,
   "id": "c411c63f",
   "metadata": {},
   "outputs": [
    {
     "name": "stdout",
     "output_type": "stream",
     "text": [
      "55\n"
     ]
    }
   ],
   "source": [
    "def recursive_sum(lst):\n",
    "    if len(lst) == 0:\n",
    "        return 0\n",
    "    else:\n",
    "        return lst[0] + recursive_sum(lst[1:])\n",
    "    \n",
    "    \n",
    "lst1 = [1, 2, 3, 4, 5, 6, 7, 8, 9, 10]\n",
    "total_sum = recursive_sum(lst1)\n",
    "print(total_sum)\n",
    "\n"
   ]
  },
  {
   "cell_type": "markdown",
   "id": "37730b0c",
   "metadata": {},
   "source": [
    "14. Write a recursive function to determine whether a given string is a palindrome."
   ]
  },
  {
   "cell_type": "code",
   "execution_count": 9,
   "id": "54c74dbb",
   "metadata": {},
   "outputs": [
    {
     "name": "stdout",
     "output_type": "stream",
     "text": [
      "True\n"
     ]
    }
   ],
   "source": [
    "def palindrome_name(string):\n",
    "    if len(string) <= 1:\n",
    "        return True\n",
    "    elif string[0] == string[-1]:\n",
    "        return palindrome_name(string[1:-1])\n",
    "    else:\n",
    "        return False\n",
    "my_string = \"racecar\"\n",
    "result = palindrome_name(my_string)\n",
    "print(result)\n"
   ]
  },
  {
   "cell_type": "markdown",
   "id": "cd0c8645",
   "metadata": {},
   "source": [
    "15. Implement a recursive function to find the greatest common divisor (GCD) of two positive integers."
   ]
  },
  {
   "cell_type": "code",
   "execution_count": 12,
   "id": "00b5f4fb",
   "metadata": {},
   "outputs": [
    {
     "name": "stdout",
     "output_type": "stream",
     "text": [
      "Enter the first positive integer: 6\n",
      "Enter the second positive integer: 2\n",
      "The greatest common divisor (GCD) is: 2\n"
     ]
    }
   ],
   "source": [
    "def gcd(a, e):\n",
    "    if e == 0:\n",
    "        return a\n",
    "    else:\n",
    "        return gcd(e, a % e)\n",
    "\n",
    "\n",
    "num1 = int(input(\"Enter the first positive integer: \"))\n",
    "num2 = int(input(\"Enter the second positive integer: \"))\n",
    "    \n",
    "result = gcd(num1, num2)\n",
    "print(\"The greatest common divisor (GCD) is:\", result)"
   ]
  },
  {
   "cell_type": "code",
   "execution_count": null,
   "id": "a2213fa1",
   "metadata": {},
   "outputs": [],
   "source": []
  }
 ],
 "metadata": {
  "kernelspec": {
   "display_name": "Python 3 (ipykernel)",
   "language": "python",
   "name": "python3"
  },
  "language_info": {
   "codemirror_mode": {
    "name": "ipython",
    "version": 3
   },
   "file_extension": ".py",
   "mimetype": "text/x-python",
   "name": "python",
   "nbconvert_exporter": "python",
   "pygments_lexer": "ipython3",
   "version": "3.9.13"
  }
 },
 "nbformat": 4,
 "nbformat_minor": 5
}
