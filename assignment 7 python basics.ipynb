{
 "cells": [
  {
   "cell_type": "markdown",
   "id": "21108050",
   "metadata": {},
   "source": [
    "Q.1. Create two int type variables, apply addition, subtraction, division and multiplications\n",
    "and store the results in variables. Then print the data in the following format by calling the\n",
    "variables:\n",
    "First variable is __ & second variable is __.\n",
    "Addition: __ + __ = __\n",
    "Subtraction: __ - __ = __\n",
    "Multiplication: __ * __ = __\n",
    "Division: __ / __ = __"
   ]
  },
  {
   "cell_type": "code",
   "execution_count": 1,
   "id": "c54acbfe",
   "metadata": {},
   "outputs": [
    {
     "name": "stdout",
     "output_type": "stream",
     "text": [
      "First variable is 5 & second variable is 10.\n",
      "Addition: 5 + 10 = 15\n",
      "Subtraction: 5 - 10 = -5\n",
      "Multiplication: 5 * 10 = 50\n",
      "Division: 5 / 10 = 0.5\n"
     ]
    }
   ],
   "source": [
    "a=5\n",
    "e=10\n",
    "\n",
    "\n",
    "addition_result = a + e\n",
    "subtraction_result = a - e\n",
    "multiplication_result = a *e\n",
    "division_result = a / e\n",
    "\n",
    "\n",
    "print(f\"First variable is {a} & second variable is {e}.\")\n",
    "print(f\"Addition: {a} + {e} = {addition_result}\")\n",
    "print(f\"Subtraction: {a} - {e} = {subtraction_result}\")\n",
    "print(f\"Multiplication: {a} * {e} = {multiplication_result}\")\n",
    "print(f\"Division: {a} / {e} = {division_result}\")\n",
    "\n",
    "\n"
   ]
  },
  {
   "cell_type": "markdown",
   "id": "0297c8df",
   "metadata": {},
   "source": [
    "Q.2. What is the difference between the following operators:\n",
    "(i) ‘/’ & ‘//’\n",
    "(ii) ‘**’ & ‘^’\n",
    "\n",
    "\n",
    "\n",
    "ANS--(i) The difference between the '/' and '//' operators is as follows:\n",
    "\n",
    "'/' (forward slash) is the division operator in Python. When used with two numbers, it performs normal division and returns a float result. For example, 10 / 3 would result in 3.33333.\n",
    "\n",
    "'//' (double forward slash) is the floor division operator in Python. It performs division and returns the largest integer that is less than or equal to the quotient. In other words, it truncates the decimal part of the division result and returns an integer. For example, 10 // 3 would result in 3.\n",
    "\n",
    "\n",
    "(ii) The difference between the '**' and '^' operators is as follows:\n",
    "\n",
    "'**' is the exponentiation operator in Python. It is used to raise a number to a power. For example, 2 ** 3 would result in 8, which is 2 raised to the power of 3.\n",
    "\n",
    "'^' is the bitwise XOR operator. It performs a bitwise XOR operation between two numbers. It compares the binary representations of the numbers and returns a new number where each bit is set if the corresponding bits in the operands are different. For example, 5 ^ 3 would result in 6, which is the bitwise XOR of 5 (binary 101) and 3 (binary 011)."
   ]
  },
  {
   "cell_type": "markdown",
   "id": "2ecdeb47",
   "metadata": {},
   "source": [
    "Q.3. List the logical operators.\n",
    "\n",
    "\n",
    "ANS--'and' operator: The and operator returns True if both operands are 'true', and 'False' otherwise. It evaluates the second operand only if the first operand is true. For example, 'True' and 'False' would result in 'False'.\n",
    "\n",
    "'or' operator: The or operator returns 'True' if at least one of the operands is 'true', and 'False' otherwise. It evaluates the second operand only if the first operand is 'false'. For example, 'True' or 'False' would result in 'True'.\n",
    "\n",
    "'not' operator: The not operator is a unary operator that returns the opposite of the operand. It negates the truth value of the operand. For example, 'not True' would result in 'False'."
   ]
  },
  {
   "cell_type": "markdown",
   "id": "909bb7c3",
   "metadata": {},
   "source": [
    "Q.4. Explain right shift operator and left shift operator with examples.\n",
    "\n",
    "\n",
    "ANS--Right Shift Operator ('>>'):\n",
    "The right shift operator ('>>') shifts the bits of a number to the right by a specified number of positions. It effectively divides the number by 2 raised to the power of the specified shift count. The rightmost bits are discarded, and zeros are added to the left side."
   ]
  },
  {
   "cell_type": "code",
   "execution_count": 2,
   "id": "617b1c26",
   "metadata": {},
   "outputs": [
    {
     "name": "stdout",
     "output_type": "stream",
     "text": [
      "3\n"
     ]
    }
   ],
   "source": [
    "num = 12  # Binary representation: 1100\n",
    "shift_count = 2\n",
    "\n",
    "result = num >> shift_count\n",
    "print(result) \n",
    "# Shifting the bits to the right by 2 positions results in the binary representation 11, which is equal to the decimal value 3."
   ]
  },
  {
   "cell_type": "markdown",
   "id": "d220ea42",
   "metadata": {},
   "source": [
    "The left shift operator ('<<') shifts the bits of a number to the left by a specified number of positions. It effectively multiplies the number by 2 raised to the power of the specified shift count. The leftmost bits are discarded, and zeros are added to the right side."
   ]
  },
  {
   "cell_type": "code",
   "execution_count": 3,
   "id": "d89738b0",
   "metadata": {},
   "outputs": [
    {
     "name": "stdout",
     "output_type": "stream",
     "text": [
      "12\n"
     ]
    }
   ],
   "source": [
    "num = 3  # Binary representation: 11\n",
    "shift_count = 2\n",
    "\n",
    "result = num << shift_count\n",
    "print(result)\n",
    "# Shifting the bits to the left by 2 positions results in the binary representation 1100, which is equal to the decimal value 12."
   ]
  },
  {
   "cell_type": "markdown",
   "id": "9952905a",
   "metadata": {},
   "source": [
    "Q.5. Create a list containing int type data of length 15. Then write a code to check if 10 is\n",
    "present in the list or not."
   ]
  },
  {
   "cell_type": "code",
   "execution_count": 4,
   "id": "fd44e0d8",
   "metadata": {},
   "outputs": [
    {
     "name": "stdout",
     "output_type": "stream",
     "text": [
      "The number 10 is present in the list.\n"
     ]
    }
   ],
   "source": [
    "# Create a list of integers\n",
    "a_list = [5, 8, 2, 15, 10, 6, 12, 3, 9, 7, 1, 11, 4, 13, 14]\n",
    "\n",
    "# Check if 10 is present in the list\n",
    "if 10 in a_list:\n",
    "    print(\"The number 10 is present in the list.\")\n",
    "else:\n",
    "    print(\"The number 10 is not present in the list.\")\n"
   ]
  },
  {
   "cell_type": "code",
   "execution_count": null,
   "id": "086b311a",
   "metadata": {},
   "outputs": [],
   "source": []
  }
 ],
 "metadata": {
  "kernelspec": {
   "display_name": "Python 3 (ipykernel)",
   "language": "python",
   "name": "python3"
  },
  "language_info": {
   "codemirror_mode": {
    "name": "ipython",
    "version": 3
   },
   "file_extension": ".py",
   "mimetype": "text/x-python",
   "name": "python",
   "nbconvert_exporter": "python",
   "pygments_lexer": "ipython3",
   "version": "3.9.13"
  }
 },
 "nbformat": 4,
 "nbformat_minor": 5
}
