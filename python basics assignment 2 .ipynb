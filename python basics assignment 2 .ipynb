{
 "cells": [
  {
   "cell_type": "markdown",
   "id": "65aab8fb",
   "metadata": {},
   "source": [
    "1. What are the two values of the Boolean data type? How do you write them?\n",
    "\n",
    "ANS--True: This represents a true or affirmative condition. In Python, you write it as 'True'.\n",
    "     False: This represents a false or negative condition. In Python, you write it as 'False'."
   ]
  },
  {
   "cell_type": "code",
   "execution_count": 1,
   "id": "7ff55897",
   "metadata": {},
   "outputs": [
    {
     "name": "stdout",
     "output_type": "stream",
     "text": [
      "False\n"
     ]
    }
   ],
   "source": [
    "x = 5\n",
    "y = 10\n",
    "\n",
    "# Comparison\n",
    "is_greater = x > y\n",
    "\n",
    "print(is_greater)\n"
   ]
  },
  {
   "cell_type": "markdown",
   "id": "44110b79",
   "metadata": {},
   "source": [
    "2. What are the three different types of Boolean operators?\n",
    "\n",
    "ANS--(1)  AND Operator (and):\n",
    "       The and operator returns True if both operands (conditions) are true; otherwise, it returns            False.\n",
    "       It requires both conditions to be true for the entire expression to be true.\n",
    "       \n",
    "       \n",
    "   (2) OR Operator (or):\n",
    "\n",
    "   The or operator returns True if at least one of the operands (conditions) is true; if both operands    are false, it returns False.\n",
    "   It requires only one of the conditions to be true for the entire expression to be true.\n",
    " \n",
    "\n",
    "   (3) NOT Operator (not):\n",
    "\n",
    "   The not operator is a unary operator that returns the opposite Boolean value of its operand.\n",
    "   If the operand is True, it returns False, and if the operand is False, it returns True."
   ]
  },
  {
   "cell_type": "markdown",
   "id": "2cd84c16",
   "metadata": {},
   "source": [
    "3. Make a list of each Boolean operators truth tables (i.e. every possible combination of Boolean\n",
    "   values for the operator and what it evaluate ).\n",
    "\n",
    "ANS--AND Operator (and):\n",
    "Operand 1\tOperand 2\tResult (Operand 1 and Operand 2)\n",
    "False\t     False\t               False\n",
    "False\t     True\t               False\n",
    "True\t     False\t               False\n",
    "True\t     True\t               True\n",
    "In the 'and' operation, the result is 'True' only when both operands are 'True'; otherwise, it is 'False'. \n",
    "\n",
    "\n",
    "\n",
    "OR Operator (or):\n",
    "Operand 1\tOperand 2\tResult (Operand 1 or Operand 2)\n",
    "False\t      False     \tFalse\n",
    "False\t      True\t        True\n",
    "True\t      False\t        True\n",
    "True\t      True\t        True\n",
    "In the or operation, the result is 'True' if at least one of the operands is ,True,; otherwise, it is 'False'.\n",
    "\n",
    "\n",
    "\n",
    "\n",
    "NOT Operator (not):\n",
    "Operand\t    Result (not Operand)\n",
    "False\t      True\n",
    "True\t      False\n",
    "In the 'not' operation, the result is the opposite of the operand. If the operand is 'True', the result is 'False', and if the operand is 'False', the result is 'True'.\n",
    "   \n",
    "   \n",
    "   "
   ]
  },
  {
   "cell_type": "markdown",
   "id": "cf1d9fd0",
   "metadata": {},
   "source": [
    "4. What are the values of the following expressions?\n",
    "(5 > 4) and (3 == 5) -----> 'False'\n",
    "\n",
    "\n",
    "--(5 > 4) is True because 5 is indeed greater than 4.\n",
    "--(3 == 5) is False because 3 is not equal to 5.\n",
    "--The 'and' operator requires both operands to be 'True' for the entire expression to be 'True'.\n",
    "So, the result is 'False' because one of the operands is 'False'.\n",
    "\n",
    "\n",
    "not (5 > 4)          -----> 'False'\n",
    "\n",
    "--(5 > 4) is 'True' because 5 is greater than 4.\n",
    "The 'not' operator negates the Boolean value, so the result is 'False'.\n",
    "\n",
    "(5 > 4) or (3 == 5)  ------> 'True'\n",
    "\n",
    "--(5 > 4) is True because 5 is greater than 4.\n",
    "(3 == 5) is False because 3 is not equal to 5.\n",
    "The 'or' operator requires at least one operand to be 'True' for the entire expression to be 'True'.\n",
    "So, the result is 'True' because one of the operands is 'True'.\n",
    "\n",
    "not ((5 > 4) or (3 == 5))-->'False'\n",
    "\n",
    "---(5 > 4) or (3 == 5) is True because one of the operands is True (5 is greater than 4).\n",
    "The 'not'operator negates the Boolean value, so the result is 'False'.\n",
    "\n",
    "(True and True) and (True == False)--->'False'\n",
    "\n",
    "---The first part, (True and True), is True because both operands are True.\n",
    "The second part, (True == False), is False because True is not equal to False.\n",
    "The 'and' operator requires both operands to be 'True' for the entire expression to be 'True'.\n",
    "So, the result is 'False' because one of the operands is 'False'.\n",
    "\n",
    "(not False) or (not True)---->'True'\n",
    "\n",
    "---not False is True because it negates False.\n",
    "   not True is False because it negates True.\n",
    "The 'or' operator requires at least one operand to be 'True' for the entire expression to be 'True'.\n",
    "So, the result is 'True' because one of the operands is 'True'."
   ]
  },
  {
   "cell_type": "markdown",
   "id": "d9f7a383",
   "metadata": {},
   "source": [
    "5. What are the six comparison operators?\n",
    "\n",
    "ANS- Equal to (==):\n",
    "     Not equal to (!=):\n",
    "     Greater than (>):\n",
    "     Less than (<):\n",
    "     Greater than or equal to (>=):\n",
    "     Less than or equal to (<=):"
   ]
  },
  {
   "cell_type": "markdown",
   "id": "132efeb4",
   "metadata": {},
   "source": [
    "6. How do you tell the difference between the equal to and assignment operators?Describe a\n",
    "   condition and when you would use one.\n",
    "   \n",
    "   \n",
    "ANS--Equal To Operator ('=='):\n",
    "\n",
    "The 'equal to' operator is used to compare two values for equality.\n",
    "It returns 'True' if the values on both sides of the operator are equal; otherwise, it returns 'False'.\n",
    "                        on the other hand\n",
    "                        \n",
    "   Assignment Operator ('='):\n",
    "\n",
    "The assignment operator is used to assign a value to a variable.\n",
    "It takes the value on the right side and assigns it to the variable on the left side.\n",
    "\n"
   ]
  },
  {
   "cell_type": "code",
   "execution_count": 2,
   "id": "584b0d97",
   "metadata": {},
   "outputs": [
    {
     "name": "stdout",
     "output_type": "stream",
     "text": [
      "x is not equal to y\n"
     ]
    }
   ],
   "source": [
    "#example of equal to operator\n",
    "\n",
    "x = 5\n",
    "y = 10\n",
    "\n",
    "if x == y:\n",
    "    print(\"x is equal to y\")\n",
    "else:\n",
    "    print(\"x is not equal to y\")\n"
   ]
  },
  {
   "cell_type": "code",
   "execution_count": 3,
   "id": "6b775967",
   "metadata": {},
   "outputs": [
    {
     "name": "stdout",
     "output_type": "stream",
     "text": [
      "5\n"
     ]
    }
   ],
   "source": [
    "#example of assignment operator\n",
    "\n",
    "x = 5\n",
    "\n",
    "y = x  # Assigning the value of x to y\n",
    "\n",
    "print(y) \n"
   ]
  },
  {
   "cell_type": "markdown",
   "id": "eee6fb56",
   "metadata": {},
   "source": [
    "7. Identify the three blocks in this code:\n",
    "spam = 0\n",
    "if spam == 10:\n",
    "print('eggs')\n",
    "if spam > 5:\n",
    "print('bacon')\n",
    "else:\n",
    "print'ham')\n",
    "print('spam')\n",
    "print('spam')\n",
    "\n",
    "\n",
    "ANS--The first block with the initialization and the if statement checking for spam == 10.\n",
    "The second block with the if and else statements checking for spam > 5.\n",
    "The third block inside the else block, containing multiple print statements."
   ]
  },
  {
   "cell_type": "code",
   "execution_count": 4,
   "id": "d9d16ca1",
   "metadata": {},
   "outputs": [],
   "source": [
    "#block 1\n",
    "\n",
    "\n",
    "spam = 0\n",
    "if spam == 10:\n",
    "    print('eggs')"
   ]
  },
  {
   "cell_type": "code",
   "execution_count": null,
   "id": "19e83c15",
   "metadata": {},
   "outputs": [],
   "source": [
    "#block 2\n",
    "\n",
    "if spam > 5:\n",
    "    print('bacon')\n",
    "else:                      #In this case, the else block consists of three print statements,\n",
    "    print('ham')            #this is also considered as a 3rd block\n",
    "    print('spam')\n",
    "    print('spam')"
   ]
  },
  {
   "cell_type": "markdown",
   "id": "03644f8f",
   "metadata": {},
   "source": [
    "8. Write code that prints Hello if 1 is stored in spam, prints Howdy if 2 is stored in spam, and        prints Greetings! if anything else is stored in spam."
   ]
  },
  {
   "cell_type": "code",
   "execution_count": 6,
   "id": "206f9211",
   "metadata": {},
   "outputs": [
    {
     "name": "stdout",
     "output_type": "stream",
     "text": [
      "Greetings!\n"
     ]
    }
   ],
   "source": [
    "spam = 5\n",
    "\n",
    "if spam == 1:\n",
    "    print(\"Hello\")\n",
    "elif spam == 2:\n",
    "    print(\"Howdy\")\n",
    "else:\n",
    "    print(\"Greetings!\")\n"
   ]
  },
  {
   "cell_type": "code",
   "execution_count": null,
   "id": "14ef1081",
   "metadata": {},
   "outputs": [],
   "source": []
  }
 ],
 "metadata": {
  "kernelspec": {
   "display_name": "Python 3 (ipykernel)",
   "language": "python",
   "name": "python3"
  },
  "language_info": {
   "codemirror_mode": {
    "name": "ipython",
    "version": 3
   },
   "file_extension": ".py",
   "mimetype": "text/x-python",
   "name": "python",
   "nbconvert_exporter": "python",
   "pygments_lexer": "ipython3",
   "version": "3.9.13"
  }
 },
 "nbformat": 4,
 "nbformat_minor": 5
}
