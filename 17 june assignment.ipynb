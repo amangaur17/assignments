{
 "cells": [
  {
   "cell_type": "markdown",
   "id": "524e208b",
   "metadata": {},
   "source": [
    "1. What is the role of try and exception block?\n",
    "\n",
    "\n",
    "ANS-- Try and exception block is used in many programming languages including python which is used to handle exceptions or errors that may occur during the execution of a program.\n",
    "\n",
    "basically, try block helps the program to immediately jump on the correponding exception block and an exception occurs. this helps in easy handling of exception rather than letting the program terminate abruptly."
   ]
  },
  {
   "cell_type": "markdown",
   "id": "e329493f",
   "metadata": {},
   "source": [
    "2. What is the syntax for a basic try-except block?"
   ]
  },
  {
   "cell_type": "code",
   "execution_count": 16,
   "id": "f8dcf133",
   "metadata": {},
   "outputs": [
    {
     "name": "stdout",
     "output_type": "stream",
     "text": [
      "Enter a number: aman\n",
      "Error: Invalid input. Please enter a valid integer.\n"
     ]
    }
   ],
   "source": [
    "# here is teh example of the syntax for a basic try-except block\n",
    "\n",
    "\n",
    "try:      # write try block with a colon\n",
    "    a = int(input(\"Enter a number: \"))       # Code that may raise an exception\n",
    "    result = a\n",
    "    print(\"Result:\", result)\n",
    "except ValueError:                           # exception block with exception type\n",
    "    print(\"Error: Invalid input. Please enter a valid integer.\")        # Exception handling code for ExceptionType"
   ]
  },
  {
   "cell_type": "markdown",
   "id": "9a67eb45",
   "metadata": {},
   "source": [
    "3. What happens if an exception occurs inside a try block and there is no matching\n",
    "   except block?\n",
    "\n",
    "ANS--  if an exception occurs inside a try block and there is no matching except block, the program stops and displays an error message.\n",
    "\n",
    "let's have an example from cricket ground.\n",
    "\n",
    "Think of it as trying to catch a ball. The try block is like your attempt to catch the ball, and the except block is like your hand ready to catch it. If the ball falls and there is no hand to catch it, it will just hit the ground. Similarly, if an exception occurs and there is no except block to catch it, the program doesn't know what to do with the exception, and it will crash."
   ]
  },
  {
   "cell_type": "markdown",
   "id": "1b5c35b0",
   "metadata": {},
   "source": [
    "4. What is the difference between using a bare except block and specifying a specific\n",
    "   exception type?\n",
    "   \n",
    "   \n",
    " ANS--\n",
    "1-When you specify a specific exception type in an except block , you are explicitly stating that you want to handle only that particular type of exception.On the other hand, a bare except block, which doesn't specify any particular exception type, catches any exception that is not handled by preceding except blocks.\n",
    "\n",
    "2-Specific Exception Type allows you to provide targeted and specialized handling for that specific exception. on the other hand bare exception type acts as a catch-all for exceptions that are not explicitly accounted for. \n",
    "\n",
    "3-Specific Exception Type are more readable and understandable or Facilitates organizing and addressing different exception.\n",
    "scenarios separately. on the other hand bare exception type, May be less clear and harder to debug or Less organized as all exceptions are handled in a similar manner.\n",
    "\n"
   ]
  },
  {
   "cell_type": "markdown",
   "id": "e33ae18e",
   "metadata": {},
   "source": [
    "5. Can you have nested try-except blocks in Python? If yes, then give an example.\n",
    "\n",
    "ANS--yes,Nested try-except blocks in Python allow you to handle exceptions at different levels of code execution. You can place a try-except block inside another try block, creating a hierarchy of exception handling."
   ]
  },
  {
   "cell_type": "code",
   "execution_count": 30,
   "id": "85fdf2b3",
   "metadata": {},
   "outputs": [
    {
     "name": "stdout",
     "output_type": "stream",
     "text": [
      "Enter the numerator: 60\n",
      "Enter the denominator: eti\n",
      "Error: Invalid denominator. Please enter an integer.\n"
     ]
    }
   ],
   "source": [
    "# here is an example.\n",
    "\n",
    "def divide_numbers():\n",
    "    try:\n",
    "        numerator = int(input(\"Enter the numerator: \"))\n",
    "        try:\n",
    "            denominator = int(input(\"Enter the denominator: \"))\n",
    "            try:\n",
    "                result = numerator / denominator\n",
    "                print(\"Result:\", result)\n",
    "            except ZeroDivisionError:\n",
    "                print(\"Error: Cannot divide by zero.\")\n",
    "        except ValueError:\n",
    "            print(\"Error: Invalid denominator. Please enter an integer.\")\n",
    "    except ValueError:\n",
    "        print(\"Error: Invalid numerator. Please enter an integer.\")\n",
    "\n",
    "divide_numbers()\n"
   ]
  },
  {
   "cell_type": "markdown",
   "id": "2c999c88",
   "metadata": {},
   "source": [
    "6. Can we use multiple exception blocks, if yes then give an example.\n",
    "\n",
    "\n",
    "ANS-- yes, we can use multiple exception blocks in python code below is an example of that"
   ]
  },
  {
   "cell_type": "code",
   "execution_count": 22,
   "id": "52cbc4ef",
   "metadata": {},
   "outputs": [
    {
     "name": "stdout",
     "output_type": "stream",
     "text": [
      "Enter a number: 45\n",
      "Enter another number: 0\n",
      "Error: Cannot divide by zero.\n"
     ]
    }
   ],
   "source": [
    "try:\n",
    "   \n",
    "    a = int(input(\"Enter a number: \"))\n",
    "    b = int(input(\"Enter another number: \"))\n",
    "    result = a / b\n",
    "    print(\"Result:\", result)\n",
    "except ValueError:\n",
    "    print(\"Invalid input. Please enter a valid number.\")\n",
    "except ZeroDivisionError:\n",
    "    print(\"Error: Cannot divide by zero.\")\n",
    "except OverflowError:\n",
    "    print(\"Error: Calculation resulted in an overflow.\")"
   ]
  },
  {
   "cell_type": "markdown",
   "id": "bc1a02c8",
   "metadata": {},
   "source": [
    "7. Write the reason due to which following errors are raised:\n",
    "\n",
    "ANS--\n",
    "1-EOFError--an EOFError occurs when a program expects more input data, but there is no more data available because the end of the file or input has been reached. This commonly occurs when reading user input from the console or reading from a file until the end.\n",
    "\n",
    "2--FloatingPointError-- Raised when a floating point operation fails.\n",
    "\n",
    "3- IndexError--IndexError is raised when you try to access an index of a sequence that is outside the range of a list,tupple or string .It occurs when you attempt to access an element using an index that is indicating an index out of bounds.\n",
    "\n",
    "4-MemoryError--raised when an operation fails due to a lack of available memory. It occurs when the program attempts to allocate more memory than the system can provide.\n",
    "\n",
    "5-OverflowError-- it is raised when the result of an arithmetic operation is too large to be expressed within the range of the data type.\n",
    "\n",
    "6-TabError-- It occurs when there is a mix of tabs and spaces or when the indentation levels are inconsistent, causing a syntax error.\n",
    "\n",
    "7-ValueError-- it is raised when a function receives an argument of the correct data type but an inappropriate value.\n",
    "\n"
   ]
  },
  {
   "cell_type": "markdown",
   "id": "4cef584a",
   "metadata": {},
   "source": [
    "8. Write code for the following given scenario and add try-exception block to it."
   ]
  },
  {
   "cell_type": "code",
   "execution_count": 23,
   "id": "f01d8d69",
   "metadata": {},
   "outputs": [
    {
     "name": "stdout",
     "output_type": "stream",
     "text": [
      "Enter the numerator: 50\n",
      "Enter the denominator: aman\n",
      "Error: Invalid input. Please enter integers only.\n"
     ]
    }
   ],
   "source": [
    "#  a. Program to divide two numbers\n",
    "\n",
    "def divide():\n",
    "    try:\n",
    "        numerator = int(input(\"Enter the numerator: \"))\n",
    "        denominator = int(input(\"Enter the denominator: \"))\n",
    "        result = numerator / denominator\n",
    "        print(\"Result:\", result)\n",
    "    except ZeroDivisionError:\n",
    "        print(\"Error: Cannot divide by zero.\")\n",
    "    except ValueError:\n",
    "        print(\"Error: Invalid input. Please enter integers only.\")\n",
    "\n",
    "divide()\n",
    "\n"
   ]
  },
  {
   "cell_type": "code",
   "execution_count": 25,
   "id": "b80b5ac3",
   "metadata": {},
   "outputs": [
    {
     "name": "stdout",
     "output_type": "stream",
     "text": [
      "Enter a string: a234d\n",
      "Error: Invalid input. The string could not be converted to an integer.\n"
     ]
    }
   ],
   "source": [
    "#  b. Program to convert a string to an integer\n",
    "\n",
    "def convert():\n",
    "    try:\n",
    "        string = input(\"Enter a string: \")\n",
    "        integer = int(string)\n",
    "        print(\"Converted integer:\", integer)\n",
    "    except ValueError:\n",
    "        print(\"Error: Invalid input. The string could not be converted to an integer.\")\n",
    "\n",
    "convert()\n",
    "\n"
   ]
  },
  {
   "cell_type": "code",
   "execution_count": 26,
   "id": "74564588",
   "metadata": {},
   "outputs": [
    {
     "name": "stdout",
     "output_type": "stream",
     "text": [
      "Enter the index: 5\n",
      "Error: Index is out of bounds.\n"
     ]
    }
   ],
   "source": [
    "# c.Program to access an element in a list\n",
    "\n",
    "def access_list():\n",
    "    my_list = [150, 200, 350, 400, 500]\n",
    "\n",
    "    try:\n",
    "        index = int(input(\"Enter the index: \"))\n",
    "        element = my_list[index]\n",
    "        print(\"Element at index\", index, \"is:\", element)\n",
    "    except IndexError:\n",
    "        print(\"Error: Index is out of bounds.\")\n",
    "    except ValueError:\n",
    "        print(\"Error: Invalid input. Please enter an integer.\")\n",
    "\n",
    "access_list()\n"
   ]
  },
  {
   "cell_type": "code",
   "execution_count": 28,
   "id": "87a7915b",
   "metadata": {},
   "outputs": [
    {
     "name": "stdout",
     "output_type": "stream",
     "text": [
      "Enter the base value: 2\n",
      "Enter the exponent value: 2\n",
      "2.0 raised to the power of 2.0 is: 4.0\n"
     ]
    }
   ],
   "source": [
    "# d.Program to handle a specific exception\n",
    "\n",
    "def calculate_power(b,e):\n",
    "    try:\n",
    "        \n",
    "        result = b ** e\n",
    "        print(b, \"raised to the power of\", e, \"is:\", result)\n",
    "    except TypeError:\n",
    "        print(\"Error: Invalid input. Please enter valid numeric values.\")\n",
    "\n",
    "        \n",
    "base_value = float(input(\"Enter the base value: \"))\n",
    "exponent_value = float(input(\"Enter the exponent value: \"))\n",
    "\n",
    "calculate_power(base_value, exponent_value)\n"
   ]
  },
  {
   "cell_type": "code",
   "execution_count": 29,
   "id": "bfb5a175",
   "metadata": {},
   "outputs": [
    {
     "name": "stdout",
     "output_type": "stream",
     "text": [
      "Enter the numerator: 5\n",
      "Enter the denominator: aman\n",
      "Error: invalid literal for int() with base 10: 'aman'\n"
     ]
    }
   ],
   "source": [
    "# e.Program to handle any exception\n",
    "\n",
    "def all_exceptions():\n",
    "    try:\n",
    "       \n",
    "        numerator = int(input(\"Enter the numerator: \"))\n",
    "        denominator = int(input(\"Enter the denominator: \"))\n",
    "        result = numerator / denominator\n",
    "        print(\"Result:\", result)\n",
    "    except Exception as e:\n",
    "        print(\"Error:\", str(e))\n",
    "\n",
    "\n",
    "all_exceptions()\n"
   ]
  },
  {
   "cell_type": "code",
   "execution_count": null,
   "id": "fc299fea",
   "metadata": {},
   "outputs": [],
   "source": []
  }
 ],
 "metadata": {
  "kernelspec": {
   "display_name": "Python 3 (ipykernel)",
   "language": "python",
   "name": "python3"
  },
  "language_info": {
   "codemirror_mode": {
    "name": "ipython",
    "version": 3
   },
   "file_extension": ".py",
   "mimetype": "text/x-python",
   "name": "python",
   "nbconvert_exporter": "python",
   "pygments_lexer": "ipython3",
   "version": "3.9.13"
  }
 },
 "nbformat": 4,
 "nbformat_minor": 5
}
